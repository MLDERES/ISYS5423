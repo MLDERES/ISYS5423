{
 "cells": [
  {
   "cell_type": "code",
   "execution_count": null,
   "metadata": {},
   "outputs": [],
   "source": [
    "import html\n",
    "import json\n",
    "\n",
    "# read json file from disk\n",
    "with open('work_items.json', 'r') as f:\n",
    "    # unpack into a dictionary\n",
    "    work_items = json.load(f)\n",
    "    print(work_items)"
   ]
  }
 ],
 "metadata": {
  "kernelspec": {
   "display_name": "Python 3",
   "language": "python",
   "name": "python3"
  },
  "language_info": {
   "name": "python",
   "version": "3.11.5"
  }
 },
 "nbformat": 4,
 "nbformat_minor": 2
}
