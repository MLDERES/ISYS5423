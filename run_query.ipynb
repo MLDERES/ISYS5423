{
 "cells": [
  {
   "cell_type": "code",
   "execution_count": 1,
   "metadata": {},
   "outputs": [],
   "source": [
    "import requests\n",
    "import json\n",
    "import config\n",
    "import openai\n",
    "import tqdm\n",
    "import html\n",
    "from datetime import datetime\n",
    "from story_feedback import WorkItem, get_work_item\n",
    "\n",
    "ADO_URL = f\"https://dev.azure.com/\"\n",
    "ADO_URL += f\"{config.DEVOPS_ORG}/\" \n",
    "ADO_URL += f\"_apis/wit/wiql\"\n",
    "\n",
    "api_version_param = {\"api-version\":config.API_VERSION}\n",
    "\n",
    "class QueryExecutionError(Exception):\n",
    "    \"\"\"Exception raised for errors during query execution.\"\"\"\n",
    "    pass\n",
    "\n",
    "def run_query(query, params={}):\n",
    "    query_params = api_version_param | params\n",
    "\n",
    "    payload = json.dumps({\"query\":query})\n",
    "    response = requests.post(ADO_URL, headers=config.PRIMARY_HEADERS, data=payload, params=query_params)\n",
    "    if response.status_code != 200:\n",
    "        raise QueryExecutionError(f\"Failed to execute query. Error: {response.json()}\")\n",
    "\n",
    "    return response.json() "
   ]
  },
  {
   "cell_type": "code",
   "execution_count": 28,
   "metadata": {},
   "outputs": [
    {
     "name": "stdout",
     "output_type": "stream",
     "text": [
      "[7, 22, 25, 26, 31, 32, 230, 231, 308, 309, 311, 577, 689]\n"
     ]
    }
   ],
   "source": [
    "# Run a query to get the workitems from a particular project\n",
    "work_items_by_project_query = \"\"\"\n",
    "SELECT\n",
    "    [System.Id],\n",
    "    [System.WorkItemType],\n",
    "    [System.Title],\n",
    "    [System.AssignedTo],\n",
    "    [System.State],\n",
    "    [System.Tags]\n",
    "FROM workitems\n",
    "WHERE\n",
    "    [System.TeamProject] = '{project_name}'\n",
    "    AND [System.WorkItemType] = 'User Story'\n",
    "ORDER BY [System.Id]\n",
    "\"\"\"\n",
    "\n",
    "projects = [\"F23 - P1\", 'F23-P3', 'F23-P4', 'FinderSpa.com', 'PetPulse (F23-P2)']\n",
    "\n",
    "def get_work_items_by_project(project_name):\n",
    "    wiql_query = work_items_by_project_query.format(project_name=project_name)\n",
    "    return run_query(query=wiql_query)['workItems']\n",
    "\n",
    "work_items = get_work_items_by_project('Sample Project')\n",
    "work_item_urls = [w.get(\"id\") for w in work_items]\n",
    "\n",
    "# Gather the descriptions and story points given the urls or ids"
   ]
  },
  {
   "cell_type": "code",
   "execution_count": 4,
   "metadata": {},
   "outputs": [
    {
     "data": {
      "text/plain": [
       "<story_feedback.WorkItem at 0x7fa4c46f29d0>"
      ]
     },
     "execution_count": 4,
     "metadata": {},
     "output_type": "execute_result"
    }
   ],
   "source": [
    "wi = get_work_item(7)\n",
    "wi"
   ]
  },
  {
   "cell_type": "code",
   "execution_count": 15,
   "metadata": {},
   "outputs": [],
   "source": [
    "def get_chat_feedback(work_items):\n",
    "    '''\n",
    "    Go to ChatGPT and ask for feedback on the user story.\n",
    "    \n",
    "    :returns: response from ChatGPT\n",
    "    '''\n",
    "    REQUEST = \"\"\"The following are user stories and the story points associated with them.\n",
    "                Consider them all, on the whole.  Do any of them standout as having too few\n",
    "                or too many story points associated with them?  Are they consistent in sizing?\n",
    "                Which ones, if any should be adjusted?  When you respond start with either GOOD: or NEEDS WORK:\n",
    "    \"\"\"\n",
    "    conversation= [{\"role\":\"system\", \"content\":REQUEST},]\n",
    "    for wi in work_items:\n",
    "        conversation += [  \n",
    "               {\"role\":\"user\", \"content\":wi.description},\n",
    "               {\"role\":\"user\", \"content\":wi.acceptance_criteria},\n",
    "               {\"role\":\"user\", \"content\":f\"story points {wi.story_points}\"}]\n",
    "    \n",
    "    response = openai.ChatCompletion.create(model='gpt-3.5-turbo',messages=conversation)\n",
    "    message = response['choices'][0]['message']['content']\n",
    "    return message\n",
    "\n",
    "#wi_list = [get_work_item(i) for i in [7, 22, 25, 26, 31, 32, 230, 231, 308, 309, 311, 577, 689]]\n",
    "#get_chat_feedback()\n"
   ]
  },
  {
   "cell_type": "code",
   "execution_count": 20,
   "metadata": {},
   "outputs": [
    {
     "data": {
      "text/plain": [
       "'GOOD: The story points for this user story seem appropriate. It involves the ability to view the release log and have it automatically updated, which could require some development effort. A story point of 8.0 indicates that it is a medium-sized user story.'"
      ]
     },
     "execution_count": 20,
     "metadata": {},
     "output_type": "execute_result"
    }
   ],
   "source": [
    "get_chat_feedback([wi_list[3]])"
   ]
  }
 ],
 "metadata": {
  "kernelspec": {
   "display_name": "Python 3",
   "language": "python",
   "name": "python3"
  },
  "language_info": {
   "codemirror_mode": {
    "name": "ipython",
    "version": 3
   },
   "file_extension": ".py",
   "mimetype": "text/x-python",
   "name": "python",
   "nbconvert_exporter": "python",
   "pygments_lexer": "ipython3",
   "version": "3.11.5"
  }
 },
 "nbformat": 4,
 "nbformat_minor": 2
}
