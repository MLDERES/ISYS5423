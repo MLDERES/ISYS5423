{
 "cells": [
  {
   "cell_type": "code",
   "execution_count": 1,
   "metadata": {},
   "outputs": [],
   "source": [
    "import requests\n",
    "import json\n",
    "import config\n",
    "import openai\n",
    "import tqdm\n",
    "import html\n",
    "from datetime import datetime\n",
    "from story_feedback import WorkItem, get_work_item\n",
    "\n",
    "ADO_URL = f\"https://dev.azure.com/\"\n",
    "ADO_URL += f\"{config.DEVOPS_ORG}/\" \n",
    "ADO_URL += f\"_apis/wit/wiql\"\n",
    "\n",
    "api_version_param = {\"api-version\":config.API_VERSION}\n",
    "\n",
    "class QueryExecutionError(Exception):\n",
    "    \"\"\"Exception raised for errors during query execution.\"\"\"\n",
    "    pass\n",
    "\n",
    "def run_query(query, params={}):\n",
    "    query_params = api_version_param | params\n",
    "\n",
    "    payload = json.dumps({\"query\":query})\n",
    "    response = requests.post(ADO_URL, headers=config.PRIMARY_HEADERS, data=payload, params=query_params)\n",
    "    if response.status_code != 200:\n",
    "        raise QueryExecutionError(f\"Failed to execute query. Error: {response.json()}\")\n",
    "\n",
    "    return response.json() "
   ]
  },
  {
   "cell_type": "code",
   "execution_count": 28,
   "metadata": {},
   "outputs": [
    {
     "name": "stdout",
     "output_type": "stream",
     "text": [
      "[7, 22, 25, 26, 31, 32, 230, 231, 308, 309, 311, 577, 689]\n"
     ]
    }
   ],
   "source": [
    "# Run a query to get the workitems from a particular project\n",
    "work_items_by_project_query = \"\"\"\n",
    "SELECT\n",
    "    [System.Id],\n",
    "    [System.WorkItemType],\n",
    "    [System.Title],\n",
    "    [System.AssignedTo],\n",
    "    [System.State],\n",
    "    [System.Tags]\n",
    "FROM workitems\n",
    "WHERE\n",
    "    [System.TeamProject] = '{project_name}'\n",
    "    AND [System.WorkItemType] = 'User Story'\n",
    "ORDER BY [System.Id]\n",
    "\"\"\"\n",
    "\n",
    "projects = [\"F23 - P1\", 'F23-P3', 'F23-P4', 'FinderSpa.com', 'PetPulse (F23-P2)']\n",
    "\n",
    "def get_work_items_by_project(project_name):\n",
    "    wiql_query = work_items_by_project_query.format(project_name=project_name)\n",
    "    return run_query(query=wiql_query)['workItems']\n",
    "\n",
    "work_items = get_work_items_by_project('Sample Project')\n",
    "work_item_urls = [w.get(\"id\") for w in work_items]\n",
    "\n",
    "# Gather the descriptions and story points given the urls or ids"
   ]
  },
  {
   "cell_type": "code",
   "execution_count": 4,
   "metadata": {},
   "outputs": [
    {
     "data": {
      "text/plain": [
       "<story_feedback.WorkItem at 0x7fa4c46f29d0>"
      ]
     },
     "execution_count": 4,
     "metadata": {},
     "output_type": "execute_result"
    }
   ],
   "source": [
    "wi = get_work_item(7)\n",
    "wi"
   ]
  },
  {
   "cell_type": "code",
   "execution_count": 15,
   "metadata": {},
   "outputs": [],
   "source": [
    "def get_chat_feedback(work_items):\n",
    "    '''\n",
    "    Go to ChatGPT and ask for feedback on the user story.\n",
    "    \n",
    "    :returns: response from ChatGPT\n",
    "    '''\n",
    "    REQUEST = \"\"\"The following are user stories and the story points associated with them.\n",
    "                Consider them all, on the whole.  Do any of them standout as having too few\n",
    "                or too many story points associated with them?  Are they consistent in sizing?\n",
    "                Which ones, if any should be adjusted?  When you respond start with either GOOD: or NEEDS WORK:\n",
    "    \"\"\"\n",
    "    conversation= [{\"role\":\"system\", \"content\":REQUEST},]\n",
    "    for wi in work_items:\n",
    "        conversation += [  \n",
    "               {\"role\":\"user\", \"content\":wi.description},\n",
    "               {\"role\":\"user\", \"content\":wi.acceptance_criteria},\n",
    "               {\"role\":\"user\", \"content\":f\"story points {wi.story_points}\"}]\n",
    "    \n",
    "    response = openai.ChatCompletion.create(model='gpt-3.5-turbo',messages=conversation)\n",
    "    message = response['choices'][0]['message']['content']\n",
    "    return message\n",
    "\n",
    "#wi_list = [get_work_item(i) for i in [7, 22, 25, 26, 31, 32, 230, 231, 308, 309, 311, 577, 689]]\n",
    "#get_chat_feedback()\n"
   ]
  },
  {
   "cell_type": "code",
   "execution_count": 20,
   "metadata": {},
   "outputs": [
    {
     "data": {
      "text/plain": [
       "'GOOD: The story points for this user story seem appropriate. It involves the ability to view the release log and have it automatically updated, which could require some development effort. A story point of 8.0 indicates that it is a medium-sized user story.'"
      ]
     },
     "execution_count": 20,
     "metadata": {},
     "output_type": "execute_result"
    }
   ],
   "source": [
    "get_chat_feedback([wi_list[3]])"
   ]
  },
  {
   "cell_type": "markdown",
   "metadata": {},
   "source": [
    "# Update just the quality field from the feedback already provided"
   ]
  },
  {
   "cell_type": "code",
   "execution_count": 16,
   "metadata": {},
   "outputs": [
    {
     "name": "stdout",
     "output_type": "stream",
     "text": [
      "The autoreload extension is already loaded. To reload it, use:\n",
      "  %reload_ext autoreload\n",
      "Work item updated successfully.\n"
     ]
    },
    {
     "ename": "KeyboardInterrupt",
     "evalue": "",
     "output_type": "error",
     "traceback": [
      "\u001b[0;31m---------------------------------------------------------------------------\u001b[0m",
      "\u001b[0;31mKeyboardInterrupt\u001b[0m                         Traceback (most recent call last)",
      "Cell \u001b[0;32mIn[16], line 70\u001b[0m\n\u001b[1;32m     68\u001b[0m \u001b[38;5;66;03m# Get the work items from the list of work item ids\u001b[39;00m\n\u001b[1;32m     69\u001b[0m work_items \u001b[38;5;241m=\u001b[39m []\n\u001b[0;32m---> 70\u001b[0m \u001b[38;5;28;43;01mfor\u001b[39;49;00m\u001b[43m \u001b[49m\u001b[43mwi\u001b[49m\u001b[43m \u001b[49m\u001b[38;5;129;43;01min\u001b[39;49;00m\u001b[43m \u001b[49m\u001b[43mfetch_ai_reviewed_user_stories\u001b[49m\u001b[43m(\u001b[49m\u001b[43m)\u001b[49m\u001b[43m:\u001b[49m\n\u001b[1;32m     71\u001b[0m \u001b[43m    \u001b[49m\u001b[43mworkitem_id\u001b[49m\u001b[43m \u001b[49m\u001b[38;5;241;43m=\u001b[39;49m\u001b[43m \u001b[49m\u001b[43mwi\u001b[49m\u001b[43m[\u001b[49m\u001b[38;5;124;43m'\u001b[39;49m\u001b[38;5;124;43mid\u001b[39;49m\u001b[38;5;124;43m'\u001b[39;49m\u001b[43m]\u001b[49m\n\u001b[1;32m     72\u001b[0m \u001b[43m    \u001b[49m\u001b[43mworkitem_id\u001b[49m\u001b[43m \u001b[49m\u001b[38;5;241;43m=\u001b[39;49m\u001b[43m \u001b[49m\u001b[38;5;241;43m1436\u001b[39;49m\n",
      "Cell \u001b[0;32mIn[16], line 70\u001b[0m\n\u001b[1;32m     68\u001b[0m \u001b[38;5;66;03m# Get the work items from the list of work item ids\u001b[39;00m\n\u001b[1;32m     69\u001b[0m work_items \u001b[38;5;241m=\u001b[39m []\n\u001b[0;32m---> 70\u001b[0m \u001b[38;5;28;43;01mfor\u001b[39;49;00m\u001b[43m \u001b[49m\u001b[43mwi\u001b[49m\u001b[43m \u001b[49m\u001b[38;5;129;43;01min\u001b[39;49;00m\u001b[43m \u001b[49m\u001b[43mfetch_ai_reviewed_user_stories\u001b[49m\u001b[43m(\u001b[49m\u001b[43m)\u001b[49m\u001b[43m:\u001b[49m\n\u001b[1;32m     71\u001b[0m \u001b[43m    \u001b[49m\u001b[43mworkitem_id\u001b[49m\u001b[43m \u001b[49m\u001b[38;5;241;43m=\u001b[39;49m\u001b[43m \u001b[49m\u001b[43mwi\u001b[49m\u001b[43m[\u001b[49m\u001b[38;5;124;43m'\u001b[39;49m\u001b[38;5;124;43mid\u001b[39;49m\u001b[38;5;124;43m'\u001b[39;49m\u001b[43m]\u001b[49m\n\u001b[1;32m     72\u001b[0m \u001b[43m    \u001b[49m\u001b[43mworkitem_id\u001b[49m\u001b[43m \u001b[49m\u001b[38;5;241;43m=\u001b[39;49m\u001b[43m \u001b[49m\u001b[38;5;241;43m1436\u001b[39;49m\n",
      "File \u001b[0;32m_pydevd_bundle\\\\pydevd_cython.pyx:1697\u001b[0m, in \u001b[0;36m_pydevd_bundle.pydevd_cython.SafeCallWrapper.__call__\u001b[0;34m()\u001b[0m\n",
      "File \u001b[0;32m_pydevd_bundle\\\\pydevd_cython.pyx:635\u001b[0m, in \u001b[0;36m_pydevd_bundle.pydevd_cython.PyDBFrame.trace_dispatch\u001b[0;34m()\u001b[0m\n",
      "File \u001b[0;32m_pydevd_bundle\\\\pydevd_cython.pyx:1368\u001b[0m, in \u001b[0;36m_pydevd_bundle.pydevd_cython.PyDBFrame.trace_dispatch\u001b[0;34m()\u001b[0m\n",
      "File \u001b[0;32m_pydevd_bundle\\\\pydevd_cython.pyx:1311\u001b[0m, in \u001b[0;36m_pydevd_bundle.pydevd_cython.PyDBFrame.trace_dispatch\u001b[0;34m()\u001b[0m\n",
      "File \u001b[0;32m_pydevd_bundle\\\\pydevd_cython.pyx:495\u001b[0m, in \u001b[0;36m_pydevd_bundle.pydevd_cython.PyDBFrame.do_wait_suspend\u001b[0;34m()\u001b[0m\n",
      "File \u001b[0;32m~/.local/lib/python3.11/site-packages/debugpy/_vendored/pydevd/pydevd.py:2197\u001b[0m, in \u001b[0;36mPyDB.do_wait_suspend\u001b[0;34m(self, thread, frame, event, arg, exception_type)\u001b[0m\n\u001b[1;32m   2194\u001b[0m             from_this_thread\u001b[38;5;241m.\u001b[39mappend(frame_custom_thread_id)\n\u001b[1;32m   2196\u001b[0m     \u001b[38;5;28;01mwith\u001b[39;00m \u001b[38;5;28mself\u001b[39m\u001b[38;5;241m.\u001b[39m_threads_suspended_single_notification\u001b[38;5;241m.\u001b[39mnotify_thread_suspended(thread_id, thread, stop_reason):\n\u001b[0;32m-> 2197\u001b[0m         keep_suspended \u001b[38;5;241m=\u001b[39m \u001b[38;5;28;43mself\u001b[39;49m\u001b[38;5;241;43m.\u001b[39;49m\u001b[43m_do_wait_suspend\u001b[49m\u001b[43m(\u001b[49m\u001b[43mthread\u001b[49m\u001b[43m,\u001b[49m\u001b[43m \u001b[49m\u001b[43mframe\u001b[49m\u001b[43m,\u001b[49m\u001b[43m \u001b[49m\u001b[43mevent\u001b[49m\u001b[43m,\u001b[49m\u001b[43m \u001b[49m\u001b[43marg\u001b[49m\u001b[43m,\u001b[49m\u001b[43m \u001b[49m\u001b[43mtrace_suspend_type\u001b[49m\u001b[43m,\u001b[49m\u001b[43m \u001b[49m\u001b[43mfrom_this_thread\u001b[49m\u001b[43m,\u001b[49m\u001b[43m \u001b[49m\u001b[43mframes_tracker\u001b[49m\u001b[43m)\u001b[49m\n\u001b[1;32m   2199\u001b[0m frames_list \u001b[38;5;241m=\u001b[39m \u001b[38;5;28;01mNone\u001b[39;00m\n\u001b[1;32m   2201\u001b[0m \u001b[38;5;28;01mif\u001b[39;00m keep_suspended:\n\u001b[1;32m   2202\u001b[0m     \u001b[38;5;66;03m# This means that we should pause again after a set next statement.\u001b[39;00m\n",
      "File \u001b[0;32m~/.local/lib/python3.11/site-packages/debugpy/_vendored/pydevd/pydevd.py:2266\u001b[0m, in \u001b[0;36mPyDB._do_wait_suspend\u001b[0;34m(self, thread, frame, event, arg, trace_suspend_type, from_this_thread, frames_tracker)\u001b[0m\n\u001b[1;32m   2263\u001b[0m                 queue\u001b[38;5;241m.\u001b[39mput(internal_cmd)\n\u001b[1;32m   2264\u001b[0m                 wait_timeout \u001b[38;5;241m=\u001b[39m TIMEOUT_FAST\n\u001b[0;32m-> 2266\u001b[0m         \u001b[43mnotify_event\u001b[49m\u001b[38;5;241;43m.\u001b[39;49m\u001b[43mwait\u001b[49m\u001b[43m(\u001b[49m\u001b[43mwait_timeout\u001b[49m\u001b[43m)\u001b[49m\n\u001b[1;32m   2267\u001b[0m         notify_event\u001b[38;5;241m.\u001b[39mclear()\n\u001b[1;32m   2269\u001b[0m \u001b[38;5;28;01mfinally\u001b[39;00m:\n",
      "File \u001b[0;32m/usr/local/lib/python3.11/threading.py:622\u001b[0m, in \u001b[0;36mEvent.wait\u001b[0;34m(self, timeout)\u001b[0m\n\u001b[1;32m    620\u001b[0m signaled \u001b[38;5;241m=\u001b[39m \u001b[38;5;28mself\u001b[39m\u001b[38;5;241m.\u001b[39m_flag\n\u001b[1;32m    621\u001b[0m \u001b[38;5;28;01mif\u001b[39;00m \u001b[38;5;129;01mnot\u001b[39;00m signaled:\n\u001b[0;32m--> 622\u001b[0m     signaled \u001b[38;5;241m=\u001b[39m \u001b[38;5;28;43mself\u001b[39;49m\u001b[38;5;241;43m.\u001b[39;49m\u001b[43m_cond\u001b[49m\u001b[38;5;241;43m.\u001b[39;49m\u001b[43mwait\u001b[49m\u001b[43m(\u001b[49m\u001b[43mtimeout\u001b[49m\u001b[43m)\u001b[49m\n\u001b[1;32m    623\u001b[0m \u001b[38;5;28;01mreturn\u001b[39;00m signaled\n",
      "File \u001b[0;32m/usr/local/lib/python3.11/threading.py:324\u001b[0m, in \u001b[0;36mCondition.wait\u001b[0;34m(self, timeout)\u001b[0m\n\u001b[1;32m    322\u001b[0m \u001b[38;5;28;01melse\u001b[39;00m:\n\u001b[1;32m    323\u001b[0m     \u001b[38;5;28;01mif\u001b[39;00m timeout \u001b[38;5;241m>\u001b[39m \u001b[38;5;241m0\u001b[39m:\n\u001b[0;32m--> 324\u001b[0m         gotit \u001b[38;5;241m=\u001b[39m \u001b[43mwaiter\u001b[49m\u001b[38;5;241;43m.\u001b[39;49m\u001b[43macquire\u001b[49m\u001b[43m(\u001b[49m\u001b[38;5;28;43;01mTrue\u001b[39;49;00m\u001b[43m,\u001b[49m\u001b[43m \u001b[49m\u001b[43mtimeout\u001b[49m\u001b[43m)\u001b[49m\n\u001b[1;32m    325\u001b[0m     \u001b[38;5;28;01melse\u001b[39;00m:\n\u001b[1;32m    326\u001b[0m         gotit \u001b[38;5;241m=\u001b[39m waiter\u001b[38;5;241m.\u001b[39macquire(\u001b[38;5;28;01mFalse\u001b[39;00m)\n",
      "\u001b[0;31mKeyboardInterrupt\u001b[0m: "
     ]
    }
   ],
   "source": [
    "# Enable the autoreload extension\n",
    "%load_ext autoreload\n",
    "\n",
    "# Set autoreload mode to automatically reload all modules (mode 2)\n",
    "%autoreload 2\n",
    "\n",
    "import requests\n",
    "import json\n",
    "import config\n",
    "from openai import OpenAI\n",
    "from story_feedback import WorkItem, get_work_item, determine_quality, get_last_comment\n",
    "import logging\n",
    "logging.basicConfig(level=logging.INFO)\n",
    "\n",
    "INFO = logging.INFO\n",
    "DEBUG = logging.DEBUG\n",
    "ERROR = logging.ERROR\n",
    "\n",
    "client = OpenAI(api_key=config.OPEN_API_KEY)\n",
    "\n",
    "# Get the open user stories which have been AI reviewed\n",
    "def fetch_ai_reviewed_user_stories():\n",
    "    url = f\"https://dev.azure.com/\"\n",
    "    url += f\"{config.DEVOPS_ORG}/\" \n",
    "    url += f\"_apis/wit/wiql\"\n",
    "\n",
    "    params = {\"api-version\":config.API_VERSION}\n",
    "    query = \"\"\"\n",
    "            SELECT[System.Id] FROM workitems\n",
    "            WHERE[System.WorkItemType] = 'User Story'\n",
    "            AND [Custom.AIReviewed] = 'True' AND [System.ChangedDate] >= @Today - 60\n",
    "            \"\"\"\n",
    "    payload = json.dumps({\"query\": query\n",
    "    })\n",
    "    # Get the list of work items\n",
    "    response = requests.post(url, headers=config.PRIMARY_HEADERS, data=payload, params=params)\n",
    "    if response.status_code != 200:\n",
    "        ERROR(f\"Failed to fetch user stories. Error: {response}\")\n",
    "        return []\n",
    "    work_items = response.json()['workItems']\n",
    "    logging.debug(f'Found {len(work_items)} user stories to review.')    \n",
    "    return work_items\n",
    "\n",
    "def update_quality(work_item_id, quality):\n",
    "    url = f\"https://dev.azure.com/{config.DEVOPS_ORG}/_apis/wit/workitems/{work_item_id}\"\n",
    "\n",
    "    headers = {\n",
    "        'Content-Type': 'application/json-patch+json',\n",
    "        'Authorization': f'Basic {config.DEVOPS_AUTH_TOKEN}',\n",
    "    }\n",
    "    params = {\"api-version\":config.API_VERSION}\n",
    "    \n",
    "    # Prepare the payload\n",
    "    payload = [\n",
    "        {\n",
    "            \"op\": \"add\",\n",
    "            \"path\": \"/fields/Custom.Quality\",\n",
    "            \"value\": quality\n",
    "        }\n",
    "    ]\n",
    "    response = requests.request(\"PATCH\", url, headers=headers, data=json.dumps(payload), params=params)\n",
    "\n",
    "    if response.status_code == 200:\n",
    "        print(\"Work item updated successfully.\")\n",
    "    else:\n",
    "        print(f\"Failed to update work item. Status code: {response.status_code}, Error: {response.text}\")\n",
    "\n",
    "# Get the work items from the list of work item ids\n",
    "work_items = []\n",
    "for wi in fetch_ai_reviewed_user_stories():\n",
    "    workitem_id = wi['id']\n",
    "    workitem_id = 1436\n",
    "    workitem_comments = get_last_comment(workitem_id)\n",
    "    quality = determine_quality(workitem_comments)\n",
    "    if len(quality)>0:\n",
    "        update_quality(wi['id'], quality)\n",
    "    \n",
    "    \n",
    "    "
   ]
  },
  {
   "cell_type": "code",
   "execution_count": 9,
   "metadata": {},
   "outputs": [
    {
     "name": "stdout",
     "output_type": "stream",
     "text": [
      "Overall Quality: Good<br><br>- Independent: Good<br>  - The user story seems to be self-contained and does not rely on other stories.<br><br>- Negotiable: Good<br>  - The user story leaves room for discussion on how the FAQ entry functionality will be implemented, which is a good quality.<br><br>- Valuable: Good<br>  - Adding new FAQ entries to keep the information up-to-date is valuable for users and administrators.<br><br>- Estimable: Good<br>  - The tasks involved in creating and submitting new FAQ entries, ensuring they appear correctly, and other specified requirements can be estimated for effort.<br><br>- Small: Good<br>  - The scope of adding new FAQ entries and ensuring their correctness is small enough to be completed within a sprint.<br><br>- Testable: Good<br>  - The acceptance criteria provided are clear, specific, and testable, ensuring that the story's completion can be verified.<br><br>Acceptance Criteria Quality: Great<br>  - The acceptance criteria provided are specific, testable, and cover both what needs to be done and what is out of scope.<br><br>Suggestions for Improvement:<br>- Consider breaking down the user story into even smaller tasks if needed to make the development process more manageable.<br>- Ensure that stakeholders are involved in discussions about the implementation details to guarantee that the solution meets their needs and expectations.<br><br>Overall, the user story and acceptance criteria are well-defined, setting a good foundation for implementation. Keep up the good work!\n"
     ]
    }
   ],
   "source": [
    "headers = {\n",
    "        'Content-Type': 'application/json-patch+json',\n",
    "        'Authorization': f'Basic {config.DEVOPS_AUTH_TOKEN}',\n",
    "    }\n",
    "params = {\"api-version\":config.API_VERSION}\n",
    "\n",
    "# Fetch work item revisions\n",
    "def fetch_work_item_revisions(id):\n",
    "    url = f\"https://dev.azure.com/{config.DEVOPS_ORG}/_apis/wit/workItems/{id}/revisions?api-version=7.1-preview.3\"\n",
    "    response = requests.get(url, headers=headers)\n",
    "    return response.json()\n",
    "\n",
    "# Fetch work item comments\n",
    "def fetch_work_item_comments(id):\n",
    "    url = f\"https://dev.azure.com/{config.DEVOPS_ORG}/_apis/wit/workItems/{id}/comments\"\n",
    "    response = requests.get(url, headers=headers)\n",
    "    return response.json()\n",
    "\n",
    "# Get the last comment\n",
    "comments = fetch_work_item_comments(1489)\n",
    "if comments.get('comments'):\n",
    "    last_comment = comments['comments'][-1]['text']  # Get the last comment's text\n",
    "else:\n",
    "    last_comment = \"No comments available\"\n",
    "\n",
    "# Use the history as needed\n",
    "print(last_comment)"
   ]
  }
 ],
 "metadata": {
  "kernelspec": {
   "display_name": "Python 3",
   "language": "python",
   "name": "python3"
  },
  "language_info": {
   "codemirror_mode": {
    "name": "ipython",
    "version": 3
   },
   "file_extension": ".py",
   "mimetype": "text/x-python",
   "name": "python",
   "nbconvert_exporter": "python",
   "pygments_lexer": "ipython3",
   "version": "3.11.5"
  }
 },
 "nbformat": 4,
 "nbformat_minor": 2
}
